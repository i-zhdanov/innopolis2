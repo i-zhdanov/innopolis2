{
  "nbformat": 4,
  "nbformat_minor": 0,
  "metadata": {
    "colab": {
      "provenance": [],
      "authorship_tag": "ABX9TyNUghGnjVsCAeNd1t4AAHjc",
      "include_colab_link": true
    },
    "kernelspec": {
      "name": "python3",
      "display_name": "Python 3"
    },
    "language_info": {
      "name": "python"
    }
  },
  "cells": [
    {
      "cell_type": "markdown",
      "metadata": {
        "id": "view-in-github",
        "colab_type": "text"
      },
      "source": [
        "<a href=\"https://colab.research.google.com/github/i-zhdanov/innopolis2/blob/main/Untitled0.ipynb\" target=\"_parent\"><img src=\"https://colab.research.google.com/assets/colab-badge.svg\" alt=\"Open In Colab\"/></a>"
      ]
    },
    {
      "cell_type": "code",
      "execution_count": 1,
      "metadata": {
        "colab": {
          "base_uri": "https://localhost:8080/"
        },
        "id": "sBJEWE9hgN6N",
        "outputId": "e2b78e46-2a46-4db7-b284-7f4c1878cb66"
      },
      "outputs": [
        {
          "output_type": "stream",
          "name": "stdout",
          "text": [
            "[[0. 0. 0. 0. 0.]\n",
            " [0. 0. 0. 0. 0.]\n",
            " [0. 0. 0. 0. 0.]\n",
            " [0. 0. 0. 0. 0.]]\n"
          ]
        }
      ],
      "source": [
        "import numpy as np\n",
        "a = np.zeros((4, 5))\n",
        "print(a)"
      ]
    },
    {
      "cell_type": "code",
      "source": [
        "N = len(a)*len(a[0])\n",
        "b = [0]*N\n",
        "for i in range(N):\n",
        "    if i < 2:\n",
        "        b[i] = 1\n",
        "    else:\n",
        "        b[i] = b[i-2] + b[i-1]\n",
        "print(*b)"
      ],
      "metadata": {
        "colab": {
          "base_uri": "https://localhost:8080/"
        },
        "id": "mIbOLn0ylCWk",
        "outputId": "a3a03d2d-7771-4afb-861f-9f32a47973d4"
      },
      "execution_count": 2,
      "outputs": [
        {
          "output_type": "stream",
          "name": "stdout",
          "text": [
            "1 1 2 3 5 8 13 21 34 55 89 144 233 377 610 987 1597 2584 4181 6765\n"
          ]
        }
      ]
    },
    {
      "cell_type": "code",
      "source": [
        "a = np.asmatrix(b).reshape(4, 5)\n",
        "print(a)"
      ],
      "metadata": {
        "colab": {
          "base_uri": "https://localhost:8080/"
        },
        "id": "F8hFuABmc5d5",
        "outputId": "430192b9-a4c6-439e-b1f6-63a6e8fa14e5"
      },
      "execution_count": 3,
      "outputs": [
        {
          "output_type": "stream",
          "name": "stdout",
          "text": [
            "[[   1    1    2    3    5]\n",
            " [   8   13   21   34   55]\n",
            " [  89  144  233  377  610]\n",
            " [ 987 1597 2584 4181 6765]]\n"
          ]
        }
      ]
    },
    {
      "cell_type": "code",
      "source": [
        "a.min(axis=0)"
      ],
      "metadata": {
        "colab": {
          "base_uri": "https://localhost:8080/"
        },
        "id": "npJmZ-dRg4Dk",
        "outputId": "e40a2a87-8bc5-49a3-d330-a22b676290f7"
      },
      "execution_count": 4,
      "outputs": [
        {
          "output_type": "execute_result",
          "data": {
            "text/plain": [
              "matrix([[1, 1, 2, 3, 5]])"
            ]
          },
          "metadata": {},
          "execution_count": 4
        }
      ]
    },
    {
      "cell_type": "code",
      "source": [
        "a.max(axis=0)"
      ],
      "metadata": {
        "colab": {
          "base_uri": "https://localhost:8080/"
        },
        "id": "MAoAhk-CiBgd",
        "outputId": "f8daecfb-00ef-4e6d-e6ec-e9fd1c357242"
      },
      "execution_count": 5,
      "outputs": [
        {
          "output_type": "execute_result",
          "data": {
            "text/plain": [
              "matrix([[ 987, 1597, 2584, 4181, 6765]])"
            ]
          },
          "metadata": {},
          "execution_count": 5
        }
      ]
    },
    {
      "cell_type": "code",
      "source": [
        "a.sum(axis=0)"
      ],
      "metadata": {
        "colab": {
          "base_uri": "https://localhost:8080/"
        },
        "id": "DI1N4t60jJUv",
        "outputId": "49cc57b0-77fc-42d7-f97c-d02dbc204f29"
      },
      "execution_count": 6,
      "outputs": [
        {
          "output_type": "execute_result",
          "data": {
            "text/plain": [
              "matrix([[1085, 1755, 2840, 4595, 7435]])"
            ]
          },
          "metadata": {},
          "execution_count": 6
        }
      ]
    },
    {
      "cell_type": "code",
      "source": [
        "a.min(axis=1)"
      ],
      "metadata": {
        "colab": {
          "base_uri": "https://localhost:8080/"
        },
        "id": "mVPS0lTcikH5",
        "outputId": "b64d0a52-6b9a-4603-fa90-54e12cdb13ff"
      },
      "execution_count": 7,
      "outputs": [
        {
          "output_type": "execute_result",
          "data": {
            "text/plain": [
              "matrix([[  1],\n",
              "        [  8],\n",
              "        [ 89],\n",
              "        [987]])"
            ]
          },
          "metadata": {},
          "execution_count": 7
        }
      ]
    },
    {
      "cell_type": "code",
      "source": [
        "a.max(axis=1)"
      ],
      "metadata": {
        "colab": {
          "base_uri": "https://localhost:8080/"
        },
        "id": "ppWMkt14iyTf",
        "outputId": "e1942d53-259f-42e2-db07-816ffa645ee8"
      },
      "execution_count": 8,
      "outputs": [
        {
          "output_type": "execute_result",
          "data": {
            "text/plain": [
              "matrix([[   5],\n",
              "        [  55],\n",
              "        [ 610],\n",
              "        [6765]])"
            ]
          },
          "metadata": {},
          "execution_count": 8
        }
      ]
    },
    {
      "cell_type": "code",
      "source": [
        "a.sum(axis=1)"
      ],
      "metadata": {
        "colab": {
          "base_uri": "https://localhost:8080/"
        },
        "id": "HHgA_5KMjU4m",
        "outputId": "922ac6c9-0c10-4f7e-887a-e87f0b7f2302"
      },
      "execution_count": 9,
      "outputs": [
        {
          "output_type": "execute_result",
          "data": {
            "text/plain": [
              "matrix([[   12],\n",
              "        [  131],\n",
              "        [ 1453],\n",
              "        [16114]])"
            ]
          },
          "metadata": {},
          "execution_count": 9
        }
      ]
    },
    {
      "cell_type": "code",
      "source": [
        "my_array=a\n",
        "print(my_array)\n",
        "\n",
        "my_array[my_array > 500] = 1\n",
        "print(my_array)"
      ],
      "metadata": {
        "colab": {
          "base_uri": "https://localhost:8080/"
        },
        "id": "KBBAv8nYszwA",
        "outputId": "30b5cf6c-8a37-4d6c-cf52-54eec8ab2a5a"
      },
      "execution_count": 18,
      "outputs": [
        {
          "output_type": "stream",
          "name": "stdout",
          "text": [
            "[[   1    1    2    3    5]\n",
            " [   8   13   21   34   55]\n",
            " [  89  144  233  377  610]\n",
            " [ 987 1597 2584 4181 6765]]\n",
            "[[  1   1   2   3   5]\n",
            " [  8  13  21  34  55]\n",
            " [ 89 144 233 377   1]\n",
            " [  1   1   1   1   1]]\n"
          ]
        }
      ]
    },
    {
      "cell_type": "code",
      "source": [
        "print('изменения')"
      ],
      "metadata": {
        "colab": {
          "base_uri": "https://localhost:8080/"
        },
        "id": "Fr5MuoNjGMVA",
        "outputId": "05eb5fd3-97c1-4b78-cbd5-c958bde7f00c"
      },
      "execution_count": 1,
      "outputs": [
        {
          "output_type": "stream",
          "name": "stdout",
          "text": [
            "изменения\n"
          ]
        }
      ]
    }
  ]
}